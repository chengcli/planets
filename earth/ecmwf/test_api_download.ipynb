{
 "cells": [
  {
   "cell_type": "code",
   "execution_count": 5,
   "id": "3b36c19c-cb16-4765-99a5-4e4ce97cc729",
   "metadata": {},
   "outputs": [],
   "source": [
    "import ecmwf_weather_api\n",
    "from ecmwf_weather_api import ECMWFWeatherAPI, create_api"
   ]
  },
  {
   "cell_type": "code",
   "execution_count": 9,
   "id": "b33c68ff-040d-4047-bd6a-74f2f9a7b4d1",
   "metadata": {},
   "outputs": [
    {
     "name": "stderr",
     "output_type": "stream",
     "text": [
      "INFO:ecmwf_weather_api:Using CDS API credentials from ~/.cdsapirc\n",
      "INFO:ecmwf_weather_api:ECMWF Weather API initialized successfully\n",
      "INFO:ecmwf_weather_api:Starting ECMWF weather data fetch\n",
      "INFO:ecmwf_weather_api:Fetching data with request: {'product_type': 'reanalysis', 'format': 'netcdf', 'variable': ['temperature', 'u_component_of_wind'], 'pressure_level': ['1000', '850', '500'], 'year': ['2024'], 'month': ['01'], 'day': ['01', '02', '03', '04', '05', '06', '07', '08', '09', '10', '11', '12', '13', '14', '15', '16', '17', '18', '19', '20', '21', '22', '23', '24', '25', '26', '27', '28', '29', '30', '31'], 'time': ['00:00', '06:00', '12:00', '18:00'], 'area': [40.0, -110.0, 30.0, -100.0]}\n",
      "INFO:ecmwf_weather_api:Output file: test.nc\n",
      "2025-11-01 10:40:17,259 INFO Request ID is 60591d68-9bd8-4d3b-a95b-d5d70d1cb5b3\n",
      "INFO:ecmwf.datastores.legacy_client:Request ID is 60591d68-9bd8-4d3b-a95b-d5d70d1cb5b3\n",
      "2025-11-01 10:40:17,449 INFO status has been updated to accepted\n",
      "INFO:ecmwf.datastores.legacy_client:status has been updated to accepted\n",
      "2025-11-01 10:40:26,329 INFO status has been updated to running\n",
      "INFO:ecmwf.datastores.legacy_client:status has been updated to running\n",
      "2025-11-01 10:41:34,004 INFO status has been updated to successful\n",
      "INFO:ecmwf.datastores.legacy_client:status has been updated to successful\n",
      "INFO:multiurl.base:Downloading https://object-store.os-api.cci2.ecmwf.int:443/cci2-prod-cache-2/2025-11-01/83f26412c5aa499b9106c2a18a5dbd79.nc\n",
      "INFO:ecmwf_weather_api:Successfully downloaded data to test.nc                                                                                             \n"
     ]
    }
   ],
   "source": [
    "api = ECMWFWeatherAPI()\n",
    "result = api.fetch_weather_data(\n",
    "    latmin=30.0,\n",
    "    latmax=40.0,\n",
    "    lonmin=-110.0,\n",
    "    lonmax=-100.0,\n",
    "    start_date=\"2024-01-01\",\n",
    "    end_date=\"2024-01-02\",\n",
    "    variables=[\"temperature\", \"u_wind\"],\n",
    "    pressure_levels=[1000, 850, 500],\n",
    "    output_file=\"test.nc\"\n",
    ")"
   ]
  },
  {
   "cell_type": "code",
   "execution_count": null,
   "id": "9989ed8a-c529-485d-9c75-859df60bbc9c",
   "metadata": {},
   "outputs": [],
   "source": []
  }
 ],
 "metadata": {
  "kernelspec": {
   "display_name": "Python 3 (ipykernel)",
   "language": "python",
   "name": "python3"
  },
  "language_info": {
   "codemirror_mode": {
    "name": "ipython",
    "version": 3
   },
   "file_extension": ".py",
   "mimetype": "text/x-python",
   "name": "python",
   "nbconvert_exporter": "python",
   "pygments_lexer": "ipython3",
   "version": "3.9.6"
  }
 },
 "nbformat": 4,
 "nbformat_minor": 5
}
